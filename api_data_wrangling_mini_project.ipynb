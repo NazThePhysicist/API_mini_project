{
 "cells": [
  {
   "cell_type": "markdown",
   "metadata": {},
   "source": [
    "This exercise will require you to pull some data from the Qunadl API. Qaundl is currently the most widely used aggregator of financial market data."
   ]
  },
  {
   "cell_type": "markdown",
   "metadata": {},
   "source": [
    "As a first step, you will need to register a free account on the http://www.quandl.com website."
   ]
  },
  {
   "cell_type": "markdown",
   "metadata": {},
   "source": [
    "After you register, you will be provided with a unique API key, that you should store:"
   ]
  },
  {
   "cell_type": "code",
   "execution_count": null,
   "metadata": {
    "collapsed": true
   },
   "outputs": [],
   "source": [
    "# Store the API key as a string - according to PEP8, constants are always named in all upper case\n",
    "API_KEY = ''"
   ]
  },
  {
   "cell_type": "markdown",
   "metadata": {},
   "source": [
    "Qaundl has a large number of data sources, but, unfortunately, most of them require a Premium subscription. Still, there are also a good number of free datasets."
   ]
  },
  {
   "cell_type": "markdown",
   "metadata": {},
   "source": [
    "For this mini project, we will focus on equities data from the Frankfurt Stock Exhange (FSE), which is available for free. We'll try and analyze the stock prices of a company called Carl Zeiss Meditec, which manufactures tools for eye examinations, as well as medical lasers for laser eye surgery: https://www.zeiss.com/meditec/int/home.html. The company is listed under the stock ticker AFX_X."
   ]
  },
  {
   "cell_type": "markdown",
   "metadata": {},
   "source": [
    "You can find the detailed Quandl API instructions here: https://docs.quandl.com/docs/time-series"
   ]
  },
  {
   "cell_type": "markdown",
   "metadata": {},
   "source": [
    "While there is a dedicated Python package for connecting to the Quandl API, we would prefer that you use the *requests* package, which can be easily downloaded using *pip* or *conda*. You can find the documentation for the package here: http://docs.python-requests.org/en/master/ "
   ]
  },
  {
   "cell_type": "markdown",
   "metadata": {},
   "source": [
    "Finally, apart from the *requests* package, you are encouraged to not use any third party Python packages, such as *pandas*, and instead focus on what's available in the Python Standard Library (the *collections* module might come in handy: https://pymotw.com/3/collections/).\n",
    "Also, since you won't have access to DataFrames, you are encouraged to us Python's native data structures - preferably dictionaries, though some questions can also be answered using lists.\n",
    "You can read more on these data structures here: https://docs.python.org/3/tutorial/datastructures.html"
   ]
  },
  {
   "cell_type": "markdown",
   "metadata": {},
   "source": [
    "Keep in mind that the JSON responses you will be getting from the API map almost one-to-one to Python's dictionaries. Unfortunately, they can be very nested, so make sure you read up on indexing dictionaries in the documentation provided above."
   ]
  },
  {
   "cell_type": "code",
   "execution_count": 55,
   "metadata": {},
   "outputs": [],
   "source": [
    "# First, import the relevant modules\n",
    "\n",
    "import json\n",
    "import requests "
   ]
  },
  {
   "cell_type": "code",
   "execution_count": 56,
   "metadata": {},
   "outputs": [],
   "source": [
    "# Now, call the Quandl API and pull out a small sample of the data (only one day) to get a glimpse\n",
    "# into the JSON structure that will be returned\n",
    "# Store the API key as a string - according to PEP8, constants are always named in all upper case\n",
    "API_KEY = 'jhHZ2sSR4NPLrqUnUd3_'\n",
    "url = 'https://www.quandl.com/api/v3/datasets/FSE/AFX_X.json?&start_date=2018-01-01&end_date=2018-01-02&' #+ API_KEY\n",
    "r = requests.get(url)"
   ]
  },
  {
   "cell_type": "code",
   "execution_count": 57,
   "metadata": {},
   "outputs": [
    {
     "name": "stdout",
     "output_type": "stream",
     "text": [
      "{'dataset': {'id': 10095370, 'dataset_code': 'AFX_X', 'database_code': 'FSE', 'name': 'Carl Zeiss Meditec (AFX_X)', 'description': 'Stock Prices for Carl Zeiss Meditec (AFX) from the Frankfurt Stock Exchange.<br><br>Trading System: Xetra<br><br>ISIN: DE0005313704', 'refreshed_at': '2019-01-25T22:30:14.503Z', 'newest_available_date': '2019-01-25', 'oldest_available_date': '2000-06-07', 'column_names': ['Date', 'Open', 'High', 'Low', 'Close', 'Change', 'Traded Volume', 'Turnover', 'Last Price of the Day', 'Daily Traded Units', 'Daily Turnover'], 'frequency': 'daily', 'type': 'Time Series', 'premium': False, 'limit': None, 'transform': None, 'column_index': None, 'start_date': '2018-01-01', 'end_date': '2018-01-02', 'data': [['2018-01-02', 52.05, 52.4, 51.2, 51.4, None, 54435.0, 2807533.0, None, None, None]], 'collapse': None, 'order': None, 'database_id': 6129}}\n"
     ]
    }
   ],
   "source": [
    "# Inspect the JSON structure of the object you created, and take note of how nested it is,\n",
    "# as well as the overall structure\n",
    "json_data = r.json()\n",
    "print(json_data)"
   ]
  },
  {
   "cell_type": "markdown",
   "metadata": {},
   "source": [
    "These are your tasks for this mini project:\n",
    "\n",
    "1. Collect data from the Franfurt Stock Exchange, for the ticker AFX_X, for the whole year 2017 (keep in mind that the date format is YYYY-MM-DD).\n",
    "2. Convert the returned JSON object into a Python dictionary.\n",
    "3. Calculate what the highest and lowest opening prices were for the stock in this period.\n",
    "4. What was the largest change in any one day (based on High and Low price)?\n",
    "5. What was the largest change between any two days (based on Closing Price)?\n",
    "6. What was the average daily trading volume during this year?\n",
    "7. (Optional) What was the median trading volume during this year. (Note: you may need to implement your own function for calculating the median.)"
   ]
  },
  {
   "cell_type": "code",
   "execution_count": 60,
   "metadata": {},
   "outputs": [],
   "source": [
    "API_KEY = 'jhHZ2sSR4NPLrqUnUd3_'\n",
    "url = 'https://www.quandl.com/api/v3/datasets/FSE/AFX_X.json?&start_date=2017-01-01&end_date=2017-12-31&' #+ API_KEY\n",
    "r = requests.get(url)"
   ]
  },
  {
   "cell_type": "code",
   "execution_count": 289,
   "metadata": {},
   "outputs": [],
   "source": [
    "json_data = r.json()\n"
   ]
  },
  {
   "cell_type": "code",
   "execution_count": 63,
   "metadata": {},
   "outputs": [
    {
     "data": {
      "text/plain": [
       "200"
      ]
     },
     "execution_count": 63,
     "metadata": {},
     "output_type": "execute_result"
    }
   ],
   "source": [
    "r.status_code"
   ]
  },
  {
   "cell_type": "code",
   "execution_count": 62,
   "metadata": {},
   "outputs": [
    {
     "name": "stdout",
     "output_type": "stream",
     "text": [
      "<class 'dict'>\n"
     ]
    }
   ],
   "source": [
    "print(type(json_data))"
   ]
  },
  {
   "cell_type": "code",
   "execution_count": 77,
   "metadata": {},
   "outputs": [],
   "source": [
    "json_keys = json_data.keys()"
   ]
  },
  {
   "cell_type": "code",
   "execution_count": 83,
   "metadata": {},
   "outputs": [
    {
     "name": "stdout",
     "output_type": "stream",
     "text": [
      "dict_keys(['dataset'])\n"
     ]
    }
   ],
   "source": [
    "print(json_keys)"
   ]
  },
  {
   "cell_type": "code",
   "execution_count": 138,
   "metadata": {},
   "outputs": [
    {
     "name": "stdout",
     "output_type": "stream",
     "text": [
      "['Date', 'Open', 'High', 'Low', 'Close', 'Change', 'Traded Volume', 'Turnover', 'Last Price of the Day', 'Daily Traded Units', 'Daily Turnover']\n"
     ]
    }
   ],
   "source": [
    "print(json_data['dataset']['column_names'])"
   ]
  },
  {
   "cell_type": "code",
   "execution_count": 145,
   "metadata": {},
   "outputs": [],
   "source": [
    "nested_json = json_data['dataset']['data']"
   ]
  },
  {
   "cell_type": "code",
   "execution_count": 139,
   "metadata": {},
   "outputs": [
    {
     "name": "stdout",
     "output_type": "stream",
     "text": [
      "<class 'list'>\n"
     ]
    }
   ],
   "source": [
    "print(type(nested_json))"
   ]
  },
  {
   "cell_type": "code",
   "execution_count": 212,
   "metadata": {},
   "outputs": [
    {
     "name": "stdout",
     "output_type": "stream",
     "text": [
      "The highest opening price in 2017: 53.11 and occured on 2017-12-14\n",
      "The lowest opening price in 2017: 34.0 and occured on 2017-01-24\n"
     ]
    }
   ],
   "source": [
    "# Calculate what the highest and lowest opening prices were for the stock in this period.\n",
    "open_dict = {row[0]: row[1] for row in json_data['dataset']['data'] if row[1] is not None}\n",
    "open_max_date, open_max = max(open_dict.items(), key=lambda k: k[1])\n",
    "open_min_date, open_min = min(open_dict.items(), key=lambda k: k[1])    #Q for k[1]and k[0] \n",
    "print('The highest opening price in 2017: ' + str(open_max) + ' and occured on ' +  str(open_max_date))\n",
    "print('The lowest opening price in 2017: ' + str(open_min)  + ' and occured on ' +  str(open_min_date))"
   ]
  },
  {
   "cell_type": "code",
   "execution_count": 290,
   "metadata": {},
   "outputs": [],
   "source": [
    "#max(json_data.items(), key=lambda x: x[1])    #Q: why [0] works but not [1]??"
   ]
  },
  {
   "cell_type": "code",
   "execution_count": 195,
   "metadata": {
    "scrolled": true
   },
   "outputs": [
    {
     "data": {
      "text/plain": [
       "[['2017-12-29',\n",
       "  51.76,\n",
       "  51.94,\n",
       "  51.45,\n",
       "  51.76,\n",
       "  None,\n",
       "  34640.0,\n",
       "  1792304.0,\n",
       "  None,\n",
       "  None,\n",
       "  None],\n",
       " ['2017-12-28',\n",
       "  51.65,\n",
       "  51.82,\n",
       "  51.43,\n",
       "  51.6,\n",
       "  None,\n",
       "  40660.0,\n",
       "  2099024.0,\n",
       "  None,\n",
       "  None,\n",
       "  None]]"
      ]
     },
     "execution_count": 195,
     "metadata": {},
     "output_type": "execute_result"
    }
   ],
   "source": [
    "json_data['dataset']['data'][0:2]"
   ]
  },
  {
   "cell_type": "code",
   "execution_count": 220,
   "metadata": {},
   "outputs": [
    {
     "name": "stdout",
     "output_type": "stream",
     "text": [
      "The largest change in price in 2017: $2.81 and occured on 2017-05-11\n"
     ]
    }
   ],
   "source": [
    "# What was the largest change in any one day (based on High and Low price)?\n",
    "difference_dict = {row[0]: row[2] -row[3] for row in json_data['dataset']['data'] if row[2] -row[3] is not None}\n",
    "max_diff_date, max_diff = max(difference_dict.items(), key=lambda k: k[1])\n",
    "print('The largest change in price in 2017: ' + '$'+str(round(max_diff,2)) + ' and occured on ' +  str(max_diff_date))\n"
   ]
  },
  {
   "cell_type": "code",
   "execution_count": 241,
   "metadata": {},
   "outputs": [
    {
     "name": "stdout",
     "output_type": "stream",
     "text": [
      "2017-12-13 53.09\n",
      "2017-01-23 34.06\n",
      "19.03\n"
     ]
    }
   ],
   "source": [
    "# What was the largest change between any two days (based on Closing Price)? Here I found the fluxtuation range for the entire year\n",
    "close_dict = {row[0]: row[4] for row in json_data['dataset']['data'] if row[0] is not None}\n",
    "close_max_date, close_max = max(close_dict.items(), key=lambda k: k[1])\n",
    "close_min_date, close_min = min(close_dict.items(), key=lambda k: k[1]) \n",
    "print(close_max_date, close_max)\n",
    "print(close_min_date, close_min) \n",
    "print(close_max-close_min)"
   ]
  },
  {
   "cell_type": "code",
   "execution_count": 245,
   "metadata": {},
   "outputs": [
    {
     "data": {
      "text/plain": [
       "51.76"
      ]
     },
     "execution_count": 245,
     "metadata": {},
     "output_type": "execute_result"
    }
   ],
   "source": [
    "json_data[\"dataset\"][\"data\"][0][4]  #playing with the dict to get some ideas..."
   ]
  },
  {
   "cell_type": "code",
   "execution_count": 254,
   "metadata": {},
   "outputs": [
    {
     "name": "stdout",
     "output_type": "stream",
     "text": [
      "dict_values([51.76, 51.6, 51.82, 51.32, 51.4, 51.27, 51.66, 52.62, 52.01, 52.67, 53.09, 52.43, 52.14, 52.12, 51.47, 50.89, 51.25, 51.14, 49.86, 49.7, 48.75, 49.25, 49.2, 49.11, 49.2, 48.8, 48.39, 47.04, 46.84, 47.03, 47.05, 48.0, 48.34, 48.34, 47.21, 47.47, 46.26, 45.99, 45.97, 45.27, 46.04, 45.76, 46.41, 45.41, 45.0, 44.85, 45.0, 44.87, 45.0, 45.77, 45.96, 45.55, 45.4, 45.43, 45.29, 45.84, 45.74, 46.0, 46.05, 46.11, 44.98, 44.17, 43.56, 42.04, 42.37, 42.07, 42.06, 41.46, 41.99, 42.44, 42.27, 42.42, 42.52, 42.45, 42.73, 42.85, 42.67, 42.77, 42.55, 42.62, 42.6, 42.41, 41.9, 41.94, 41.85, 41.91, 42.14, 42.69, 42.71, 42.71, 42.26, 42.41, 42.5, 42.05, 42.28, 42.3, 41.94, 41.68, 41.81, 44.37, 44.96, 45.07, 44.97, 45.56, 45.45, 45.3, 44.97, 45.25, 45.16, 44.82, 44.61, 45.44, 45.66, 45.57, 45.0, 45.6, 45.53, 44.95, 44.95, 44.2, 44.7, 44.53, 44.62, 45.19, 44.8, 45.75, 45.44, 45.2, 45.68, 46.83, 47.21, 46.99, 47.29, 46.99, 47.37, 46.64, 46.63, 45.67, 46.33, 46.32, 46.31, 47.44, 46.27, 47.43, 47.43, 46.99, 46.52, 45.86, 46.02, 45.32, 45.3, 44.78, 44.53, 43.9, 43.84, 44.12, 43.98, 44.19, 45.31, 45.14, 44.99, 45.0, 43.28, 43.3, 42.24, 42.75, 42.5, 41.9, 42.15, 41.72, 41.72, 42.16, 41.5, 41.89, 41.81, 41.32, 41.93, 42.61, 42.0, 42.2, 42.2, 42.2, 42.2, 41.75, 41.68, 41.42, 41.05, 41.1, 40.81, 39.64, 39.98, 39.75, 40.01, 39.22, 38.85, 38.94, 38.96, 38.94, 40.98, 41.97, 41.34, 41.46, 41.25, 41.3, 41.3, 41.4, 41.4, 41.68, 41.42, 41.4, 41.18, 41.17, 41.2, 40.84, 40.39, 39.74, 39.79, 39.7, 39.45, 38.98, 39.02, 38.71, 38.72, 38.37, 38.53, 37.06, 36.25, 36.05, 35.89, 35.64, 36.1, 36.07, 35.94, 34.56, 35.15, 35.3, 34.89, 34.83, 34.22, 34.06, 34.17, 34.5, 34.9, 34.99, 35.07, 34.85, 34.9, 35.42, 34.91, 34.67, 35.04, 35.06, 35.19, 35.48, 35.8])\n"
     ]
    }
   ],
   "source": [
    "close_val = close_dict.values()  #getting the values to visualize what to do next...\n",
    "print(close_val)"
   ]
  },
  {
   "cell_type": "code",
   "execution_count": 257,
   "metadata": {},
   "outputs": [
    {
     "name": "stdout",
     "output_type": "stream",
     "text": [
      "<class 'dict_values'>\n"
     ]
    }
   ],
   "source": [
    "print(type(close_val))"
   ]
  },
  {
   "cell_type": "code",
   "execution_count": 261,
   "metadata": {},
   "outputs": [
    {
     "name": "stdout",
     "output_type": "stream",
     "text": [
      "<class 'list'>\n"
     ]
    }
   ],
   "source": [
    "close_list = list(close_dict.values())\n",
    "print(type(close_list))"
   ]
  },
  {
   "cell_type": "code",
   "execution_count": 266,
   "metadata": {},
   "outputs": [
    {
     "name": "stdout",
     "output_type": "stream",
     "text": [
      "The largest change between any two consecutive days in 2017: $2.56\n"
     ]
    }
   ],
   "source": [
    "# this is the answer to the largest change between any two consecutive days (based on Closing Price): \n",
    "largest_cons_change = max([j-i for i, j in zip(close_list[:-1], close_list[1:])])  #Q how to get their corresponding date for these?\n",
    "print('The largest change between any two consecutive days in 2017: ' + '$'+str(round(largest_cons_change,2)))\n"
   ]
  },
  {
   "cell_type": "code",
   "execution_count": 267,
   "metadata": {},
   "outputs": [],
   "source": [
    "#  What was the average daily trading volume during this year? \n",
    "vol_dict = {row[0]: row[6] for row in json_data['dataset']['data'] if row[6] is not None}"
   ]
  },
  {
   "cell_type": "code",
   "execution_count": 278,
   "metadata": {},
   "outputs": [
    {
     "name": "stdout",
     "output_type": "stream",
     "text": [
      "The average daily trading volume during 2017 is: 89124.34\n"
     ]
    }
   ],
   "source": [
    "vol_list = list(vol_dict.values())\n",
    "len(vol_list)\n",
    "vol_avg = sum(vol_list)/ len(vol_list)\n",
    "print('The average daily trading volume during 2017 is: ' + str(round(vol_avg,2)))"
   ]
  },
  {
   "cell_type": "code",
   "execution_count": 288,
   "metadata": {},
   "outputs": [
    {
     "name": "stdout",
     "output_type": "stream",
     "text": [
      "The median trading volume during 2017 is: 76286.0\n"
     ]
    }
   ],
   "source": [
    "#(Optional) What was the median trading volume during this year. \n",
    "import  statistics\n",
    "vol_list\n",
    "median_vol = statistics.median(vol_list)\n",
    "print('The median trading volume during 2017 is: ' + str(round(median_vol,2)))"
   ]
  }
 ],
 "metadata": {
  "kernelspec": {
   "display_name": "Python 3",
   "language": "python",
   "name": "python3"
  },
  "language_info": {
   "codemirror_mode": {
    "name": "ipython",
    "version": 3
   },
   "file_extension": ".py",
   "mimetype": "text/x-python",
   "name": "python",
   "nbconvert_exporter": "python",
   "pygments_lexer": "ipython3",
   "version": "3.7.1"
  }
 },
 "nbformat": 4,
 "nbformat_minor": 2
}
